{
 "cells": [
  {
   "cell_type": "code",
   "execution_count": 25,
   "metadata": {},
   "outputs": [],
   "source": [
    "# intended to sumarize tables of data:\n",
    "# merged node counts, node types, and drug interactions\n",
    "# written 11-14-19 JLW\n",
    "\n",
    "import pickle,os,csv,functools, matplotlib\n",
    "import pandas as pd\n",
    "import numpy as np\n",
    "from collections import defaultdict\n",
    "matplotlib.use(\"AGG\")\n",
    "import matplotlib.pyplot as plt\n",
    "\n",
    "coth_dir = os.path.join('..','data','cotherapy')\n",
    "cof = os.path.join(coth_dir,'co_therapies_with_literature_support.xlsx')\n",
    "\n",
    "ncf = 'supp2_DME_merged_node_counts.xlsx' # this is in the Code directory for now?\n",
    "tpf = 'drugs_to_dmes_true_positive.txt'\n",
    "\n",
    "hist_data = pickle.load(open(os.path.join(coth_dir,'predicted_data_for_hist.pkl'),'rb'))"
   ]
  },
  {
   "cell_type": "code",
   "execution_count": 11,
   "metadata": {},
   "outputs": [
    {
     "name": "stdout",
     "output_type": "stream",
     "text": [
      "Myopathy\n",
      "Hemorrhage\n",
      "Pneumonia\n",
      "Hypertension\n",
      "Tardive dyskinesia\n",
      "Cerebral infarction\n",
      "Hemolytic anemia\n",
      "Pancreatitis\n",
      "Sepsis\n",
      "Peripheral neuropathy\n",
      "Gastric ulcer\n",
      "Hyperlipidemia\n",
      "Myocardial infarction\n",
      "Edema\n",
      "Deep vein thrombosis\n",
      "Thrombocytopenia\n",
      "Interstitial lung disease\n",
      "Pulmonary edema\n",
      "Delirium\n",
      "Proteinuria\n",
      "Ventricular tachycardia\n",
      "Cardiac arrest\n",
      "Hepatic necrosis\n",
      "Agranulocytosis\n"
     ]
    }
   ],
   "source": [
    "# Read node count file \n",
    "# extract intermediate node -> drug relationships\n",
    "dd_list = functools.partial(defaultdict, list)\n",
    "all_node_data = {}\n",
    "df = pd.read_excel(ncf, None)\n",
    "for dme in df.keys():\n",
    "    print(dme)\n",
    "    dme_df = df[dme]\n",
    "    just_drugs = []\n",
    "    node_data = defaultdict(dd_list)\n",
    "    for row in dme_df.itertuples():\n",
    "        drug_str = row._5\n",
    "        node_name = row._2\n",
    "        node_count = row._3\n",
    "        drug_names = set([dp.split(':')[0] for dp in drug_str.split(';')])\n",
    "        jd = ','.join(drug_names)\n",
    "        just_drugs.append(jd)\n",
    "        node_data[node_name]['count'] = node_count\n",
    "        node_data[node_name]['drugs'] = jd\n",
    "    dme_df.insert(1,'Drug Names',just_drugs)\n",
    "    all_node_data[dme] = node_data"
   ]
  },
  {
   "cell_type": "code",
   "execution_count": 39,
   "metadata": {},
   "outputs": [
    {
     "name": "stdout",
     "output_type": "stream",
     "text": [
      "Cardiac Arrest\n",
      "Cerebral Infarction\n",
      "Delirium\n",
      "DVT\n",
      "Edema\n",
      "Gastric Ulcer\n",
      "Hemorrhage\n",
      "Hypertension\n",
      "Hyperlipidemia\n",
      "ILD\n",
      "Myocardial Infarction\n",
      "Myopathy\n",
      "Neuropathy\n",
      "Pancreatitis\n",
      "Pneumonia\n",
      "Proteinuria\n",
      "Sepsis\n",
      "Thrombocytopenia\n",
      "Ventricular Tachy\n"
     ]
    }
   ],
   "source": [
    "# open co-therapies table, match co-therapy/node relationships to node-> original drug relationships\n",
    "dme_mapping = {'DVT':'Deep vein thrombosis', 'ILD':'Interstitial lung disease', \n",
    "               'Neuropathy':'Peripheral neuropathy', 'Ventricular Tachy':'Ventricular tachycardia'}\n",
    "writer = pd.ExcelWriter(open(os.path.join(coth_dir,'supp4_summary_drug_interactions.xlsx'),'wb'))\n",
    "df2 = pd.read_excel(cof,None)\n",
    "positive_rels = ['Prevents','Prevcents','Inhibits']\n",
    "negative_rels = ['Aggravates','Activates','Induces']\n",
    "for dme in df2.keys():\n",
    "    print(dme)\n",
    "    if dme.capitalize() in all_node_data:\n",
    "        dme_map = dme.capitalize()\n",
    "    else:\n",
    "        dme_map = dme_mapping[dme]\n",
    "    node_data = all_node_data[dme_map]\n",
    "    just_drugs = []\n",
    "    node_counts = []\n",
    "    \n",
    "    dme_df2 = df2[dme]\n",
    "    for row in dme_df2.itertuples():\n",
    "        if row.Relationship in positive_rels:\n",
    "            hist_data[dme]['positive'].add(row.Drug)\n",
    "        elif row.Relationship in negative_rels:\n",
    "            hist_data[dme]['negative'].add(row.Drug)\n",
    "        node_name = row._3\n",
    "        if ',' in node_name: # sometimes a predicted combination has multiple targets within the DME pathway\n",
    "            mcnts = []\n",
    "            mdrugs = []\n",
    "            for mnode in node_name.split(','):\n",
    "                [cnt,jd] = [node_data[mnode]['count'],node_data[mnode]['drugs']]\n",
    "                mcnts.append(str(cnt))\n",
    "                mdrugs.append(jd)\n",
    "            just_drugs.append('|'.join(mdrugs))\n",
    "            node_counts.append('|'.join(mcnts))       \n",
    "        else: # when a predicted combination has single targets in the dme pathway\n",
    "            [cnt,jd] = [node_data[node_name]['count'],node_data[node_name]['drugs']]\n",
    "            just_drugs.append(jd)\n",
    "            node_counts.append(cnt)\n",
    "    dme_df2.insert(1,'Drugs with labeled DME',just_drugs)\n",
    "    dme_df2.insert(1,'Intermediate node count',node_counts)\n",
    "    \n",
    "    # reformat\n",
    "    preferred_cols = ['Drugs with labeled DME','Drug targets in DME pathway','Intermediate node count',\n",
    "                      'Drug','PMID','Relationship', 'Notes']\n",
    "    dme_df2 = dme_df2[preferred_cols]\n",
    "    # dme_df2.rename(columns={'Drug targets in DME pathway': 'DME pathway intermediate', 'Drug': 'Predicted Cotherapy'})\n",
    "    dme_df2.columns = ['Drugs with labeled DME','DME pathway intermediate','Intermediate node count',\n",
    "                      'Predicted Cotherapy','PMID','Relationship', 'Notes']\n",
    "    dme_df2.to_excel(writer,sheet_name=dme)\n",
    "\n",
    "writer.save()"
   ]
  },
  {
   "cell_type": "code",
   "execution_count": 47,
   "metadata": {},
   "outputs": [
    {
     "name": "stderr",
     "output_type": "stream",
     "text": [
      "/Users/jenwilson/anaconda2/envs/DME_networks_environment/lib/python3.6/site-packages/ipykernel_launcher.py:16: RuntimeWarning: More than 20 figures have been opened. Figures created through the pyplot interface (`matplotlib.pyplot.figure`) are retained until explicitly closed and may consume too much memory. (To control this warning, see the rcParam `figure.max_open_warning`).\n",
      "  app.launch_new_instance()\n",
      "/Users/jenwilson/anaconda2/envs/DME_networks_environment/lib/python3.6/site-packages/ipykernel_launcher.py:20: RuntimeWarning: More than 20 figures have been opened. Figures created through the pyplot interface (`matplotlib.pyplot.figure`) are retained until explicitly closed and may consume too much memory. (To control this warning, see the rcParam `figure.max_open_warning`).\n"
     ]
    }
   ],
   "source": [
    "# create a histogram of predicted and tested drug combinations\n",
    "labels = []\n",
    "predicted = []\n",
    "positive = []\n",
    "negative = []\n",
    "for (dme,ppn_dic) in sorted(hist_data.items()):\n",
    "    labels.append(dme)\n",
    "    pre_n = len(ppn_dic['predicted'])\n",
    "    predicted.append(pre_n)\n",
    "    pos_n = len(ppn_dic['positive'])\n",
    "    positive.append(pos_n)\n",
    "    neg_n = len(ppn_dic['negative'])\n",
    "    negative.append(neg_n)\n",
    "    \n",
    "\n",
    "fix,ax = plt.subplots()\n",
    "x = np.arange(len(labels))  # the label locations\n",
    "width = 0.25  # the width of the bars\n",
    "\n",
    "fig, ax = plt.subplots()\n",
    "# rects1 = ax.bar(x - width*1.5, predicted, width, label='Predicted')\n",
    "rects2 = ax.bar(x, positive, width, label='Mitigate DME', color='blue')\n",
    "rects3 = ax.bar(x + width*1.5, negative, width, label='Aggravates DME', color='red')\n",
    "\n",
    "# Add some text for labels, title and custom x-axis tick labels, etc.\n",
    "ax.set_ylabel('Number of drug combinations')\n",
    "ax.set_title('Number of combinations with literature evidence')\n",
    "ax.set_xticks(x)\n",
    "ax.set_xticklabels(labels)\n",
    "ax.legend()\n",
    "plt.xticks(rotation=90)\n",
    "plt.subplots_adjust(bottom=0.4)\n",
    "\n",
    "plt.savefig(os.path.join(coth_dir,'predicted_combos_bar_chart'))\n",
    "plt.clf()\n"
   ]
  },
  {
   "cell_type": "code",
   "execution_count": null,
   "metadata": {
    "collapsed": true
   },
   "outputs": [],
   "source": []
  },
  {
   "cell_type": "code",
   "execution_count": null,
   "metadata": {
    "collapsed": true
   },
   "outputs": [],
   "source": []
  }
 ],
 "metadata": {
  "kernelspec": {
   "display_name": "DME_networks_environment",
   "language": "python",
   "name": "dme_networks_environment"
  },
  "language_info": {
   "codemirror_mode": {
    "name": "ipython",
    "version": 3
   },
   "file_extension": ".py",
   "mimetype": "text/x-python",
   "name": "python",
   "nbconvert_exporter": "python",
   "pygments_lexer": "ipython3",
   "version": "3.6.9"
  }
 },
 "nbformat": 4,
 "nbformat_minor": 2
}
