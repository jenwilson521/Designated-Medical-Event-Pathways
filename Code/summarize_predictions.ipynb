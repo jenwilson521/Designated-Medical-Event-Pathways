{
 "cells": [
  {
   "cell_type": "code",
   "execution_count": 1,
   "metadata": {
    "collapsed": true
   },
   "outputs": [],
   "source": [
    "# intended to sumarize tables of data:\n",
    "# merged node counts, node types, and drug interactions\n",
    "# written 11-14-19 JLW\n",
    "\n",
    "import pickle,os,csv,functools\n",
    "import pandas as pd\n",
    "from collections import defaultdict\n",
    "\n",
    "co_dir = os.path.join('..','data','cotherapy')\n",
    "cof = os.path.join(co_dir,'co_therapies_with_literature_support.xlsx')\n",
    "\n",
    "ncf = 'DME_merged_node_counts.xlsx' # this is in the Code directory for now?\n",
    "tpf = 'drugs_to_dmes_true_positive.txt'"
   ]
  },
  {
   "cell_type": "code",
   "execution_count": 2,
   "metadata": {},
   "outputs": [
    {
     "name": "stdout",
     "output_type": "stream",
     "text": [
      "Myopathy\n",
      "Hemorrhage\n",
      "Pneumonia\n",
      "Hypertension\n",
      "Tardive dyskinesia\n",
      "Cerebral infarction\n",
      "Hemolytic anemia\n",
      "Pancreatitis\n",
      "Sepsis\n",
      "Peripheral neuropathy\n",
      "Gastric ulcer\n",
      "Hyperlipidemia\n",
      "Myocardial infarction\n",
      "Edema\n",
      "Deep vein thrombosis\n",
      "Thrombocytopenia\n",
      "Interstitial lung disease\n",
      "Pulmonary edema\n",
      "Delirium\n",
      "Proteinuria\n",
      "Ventricular tachycardia\n",
      "Cardiac arrest\n",
      "Hepatic necrosis\n",
      "Agranulocytosis\n"
     ]
    }
   ],
   "source": [
    "# Read node count file \n",
    "# extract intermediate node -> drug relationships\n",
    "dd_list = functools.partial(defaultdict, list)\n",
    "all_node_data = {}\n",
    "df = pd.read_excel(ncf, None)\n",
    "for dme in df.keys():\n",
    "    print(dme)\n",
    "    dme_df = df[dme]\n",
    "    just_drugs = []\n",
    "    node_data = defaultdict(dd_list)\n",
    "    for row in dme_df.itertuples():\n",
    "        drug_str = row._5\n",
    "        node_name = row._2\n",
    "        node_count = row._3\n",
    "        drug_names = set([dp.split(':')[0] for dp in drug_str.split(';')])\n",
    "        jd = ','.join(drug_names)\n",
    "        just_drugs.append(jd)\n",
    "        node_data[node_name]['count'] = node_count\n",
    "        node_data[node_name]['drugs'] = jd\n",
    "    dme_df.insert(1,'Drug Names',just_drugs)\n",
    "    all_node_data[dme] = node_data"
   ]
  },
  {
   "cell_type": "code",
   "execution_count": 7,
   "metadata": {},
   "outputs": [
    {
     "name": "stdout",
     "output_type": "stream",
     "text": [
      "Cardiac Arrest\n",
      "Cerebral Infarction\n",
      "Delirium\n",
      "DVT\n",
      "Edema\n",
      "Gastric Ulcer\n",
      "Hemorrhage\n",
      "Hypertension\n",
      "Hyperlipidemia\n",
      "ILD\n",
      "Myocardial Infarction\n",
      "Myopathy\n",
      "Neuropathy\n",
      "Pancreatitis\n",
      "Pneumonia\n",
      "Proteinuria\n",
      "Sepsis\n",
      "Thrombocytopenia\n",
      "Ventricular Tachy\n"
     ]
    }
   ],
   "source": [
    "# open co-therapies table, match co-therapy/node relationships to node-> original drug relationships\n",
    "dme_mapping = {'DVT':'Deep vein thrombosis', 'ILD':'Interstitial lung disease', \n",
    "               'Neuropathy':'Peripheral neuropathy', 'Ventricular Tachy':'Ventricular tachycardia'}\n",
    "writer = pd.ExcelWriter(open(os.path.join(co_dir,'summary_drug_interactions.xlsx'),'wb'))\n",
    "df2 = pd.read_excel(cof,None)\n",
    "for dme in df2.keys():\n",
    "    print(dme)\n",
    "    if dme.capitalize() in all_node_data:\n",
    "        dme_map = dme.capitalize()\n",
    "    else:\n",
    "        dme_map = dme_mapping[dme]\n",
    "    node_data = all_node_data[dme_map]\n",
    "    just_drugs = []\n",
    "    node_counts = []\n",
    "    \n",
    "    dme_df2 = df2[dme]\n",
    "    for row in dme_df2.itertuples():\n",
    "        node_name = row._3\n",
    "        if ',' in node_name: # sometimes a predicted combination has multiple targets within the DME pathway\n",
    "            mcnts = []\n",
    "            mdrugs = []\n",
    "            for mnode in node_name.split(','):\n",
    "                [cnt,jd] = [node_data[mnode]['count'],node_data[mnode]['drugs']]\n",
    "                mcnts.append(str(cnt))\n",
    "                mdrugs.append(jd)\n",
    "            just_drugs.append('|'.join(mdrugs))\n",
    "            node_counts.append('|'.join(mcnts))       \n",
    "        else: # when a predicted combination has single targets in the dme pathway\n",
    "            [cnt,jd] = [node_data[node_name]['count'],node_data[node_name]['drugs']]\n",
    "            just_drugs.append(jd)\n",
    "            node_counts.append(cnt)\n",
    "    dme_df2.insert(1,'Drugs with labeled DME',just_drugs)\n",
    "    dme_df2.insert(1,'Intermediate node count',node_counts)\n",
    "    \n",
    "    # reformat\n",
    "    preferred_cols = ['Drugs with labeled DME','Drug targets in DME pathway','Intermediate node count',\n",
    "                      'Drug','PMID','Relationship', 'Notes']\n",
    "    dme_df2 = dme_df2[preferred_cols]\n",
    "    # dme_df2.rename(columns={'Drug targets in DME pathway': 'DME pathway intermediate', 'Drug': 'Predicted Cotherapy'})\n",
    "    dme_df2.columns = ['Drugs with labeled DME','DME pathway intermediate','Intermediate node count',\n",
    "                      'Predicted Cotherapy','PMID','Relationship', 'Notes']\n",
    "    dme_df2.to_excel(writer,sheet_name=dme)\n",
    "writer.save()"
   ]
  },
  {
   "cell_type": "code",
   "execution_count": null,
   "metadata": {
    "collapsed": true
   },
   "outputs": [],
   "source": []
  },
  {
   "cell_type": "code",
   "execution_count": null,
   "metadata": {
    "collapsed": true
   },
   "outputs": [],
   "source": []
  }
 ],
 "metadata": {
  "kernelspec": {
   "display_name": "DME_networks_environment",
   "language": "python",
   "name": "dme_networks_environment"
  },
  "language_info": {
   "codemirror_mode": {
    "name": "ipython",
    "version": 3
   },
   "file_extension": ".py",
   "mimetype": "text/x-python",
   "name": "python",
   "nbconvert_exporter": "python",
   "pygments_lexer": "ipython3",
   "version": "3.6.9"
  }
 },
 "nbformat": 4,
 "nbformat_minor": 2
}
