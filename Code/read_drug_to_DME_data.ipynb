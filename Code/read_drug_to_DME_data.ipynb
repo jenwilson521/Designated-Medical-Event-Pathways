{
 "cells": [
  {
   "cell_type": "code",
   "execution_count": null,
   "metadata": {
    "collapsed": true
   },
   "outputs": [],
   "source": [
    "# Written to read and explore the initial data\n",
    "# associating drug labels to adverse events\n",
    "# written 12-13-18 JLW, adapted 8-28-19\n",
    "\n",
    "import pickle,os,csv\n",
    "from collections import defaultdict\n",
    "\n",
    "rscs_dir = '../rscs/'\n",
    "data_dir = '../data/'\n",
    "\n",
    "db2nf = os.path.join(rscs_dir,'drugbankid_to_name.pkl')\n",
    "db2n = pickle.load(open(db2nf,'rb'))\n",
    "n2db = dict([(nm.lower(),db) for (db,nm) in db2n.items()])"
   ]
  },
  {
   "cell_type": "code",
   "execution_count": null,
   "metadata": {
    "collapsed": true
   },
   "outputs": [],
   "source": [
    "# methods for phenotype matching\n",
    "dme_syns = pickle.load(open(os.path.join(data_dir,'synonyms.pkl'),'rb'))\n",
    "def strip_string(s):\n",
    "        return s.replace(',','').replace('(','').replace(')','')\n",
    "\n",
    "def exact_overlap(t,p): # check if all tox words are contained in phenotype\n",
    "        t_words = [x.lower() for x in t.split(' ')]\n",
    "        p_words = [x.lower() for x in strip_string(p).split(' ')]\n",
    "        t_len = float(len(t_words))\n",
    "        if len(set(t_words).intersection(set(p_words))) == t_len:\n",
    "                return True\n",
    "        else:\n",
    "                return False\n",
    "\n",
    "def check_synonyms(t,p):\n",
    "        match = False\n",
    "        if dme_syns[t] != []:\n",
    "                syns = dme_syns[t]\n",
    "                syns = [x for x in syns if x!= '']\n",
    "                for s in syns:\n",
    "                        if exact_overlap(s,p):\n",
    "                                match = True\n",
    "        return match"
   ]
  },
  {
   "cell_type": "code",
   "execution_count": null,
   "metadata": {
    "collapsed": true
   },
   "outputs": [],
   "source": [
    "# load drug-DME data from drug labels\n",
    "f = os.path.join(data_dir,'Drugs_labeled_for_AEs.txt')\n",
    "dR = csv.DictReader(open(f,'r'),delimiter='\\t')\n",
    "\n",
    "# gather starting data\n",
    "unique_drugs = set()\n",
    "drugs_by_dme = defaultdict(list)\n",
    "dmes_by_drugs = defaultdict(list)\n",
    "for r in dR:\n",
    "        for (dme,drug) in r.items():\n",
    "                if drug != '':\n",
    "                        drugs_by_dme[dme].append(drug.lower())\n",
    "                        unique_drugs.add(drug.lower())\n",
    "                        dmes_by_drugs[drug.lower()].append(dme)\n",
    "print('extracted drug-dme relationships')\n",
    "\n",
    "# create set of false positives\n",
    "fpdmes_by_drugs = defaultdict(list)\n",
    "unique_dmes = [k for k in drugs_by_dme.keys()]\n",
    "for (drug,dme_list) in dmes_by_drugs.items():\n",
    "        fp_dmes = list(set(unique_dmes).difference(set(dme_list))) # get list of dmes NOT on the drug label\n",
    "        fpdmes_by_drugs[drug.lower()] = fp_dmes\n",
    "\n",
    "# map to DrugBank IDs\n",
    "un_in_DB = [n2db[n.lower()] for n in unique_drugs if n.lower() in n2db] #1136 drugs"
   ]
  },
  {
   "cell_type": "code",
   "execution_count": null,
   "metadata": {
    "collapsed": true
   },
   "outputs": [],
   "source": [
    "# check how many are in drug bank and modeled\n",
    "db_with_targf = os.path.join(rscs_dir,'drugBank_with_at_least_one_intom_targ.pkl')\n",
    "db_with_targ = pickle.load(open(db_with_targf,'rb'))\n",
    "un_with_targ = [n for n in un_in_DB if n in db_with_targ] #997 drugs\n",
    "un_with_targ_dname = [db2n[d].lower() for d in un_with_targ] #997 drugs\n",
    "num_drug_analyzed = len(un_with_targ)\n",
    "un_w_t_in_dme = [d for d in un_with_targ if db2n[d].lower() in dmes_by_drugs] # drug with targets and dmes\n",
    "print('loaded drug bank mappings')\n",
    "\n",
    "# dictionary to look up drug network results\n",
    "asfdir = os.path.join(data_dir,'all_drugbank_network_association_files/')\n",
    "asf = [f for f in os.listdir(asfdir)]\n",
    "asf_dic = dict([(f.split('_')[0],f) for f in asf if 'merged_neighborhood__assoc_table_.txt' in f])\n",
    "print('loaded association files')\n",
    "\n",
    "# other data needed for analysis\n",
    "# expected p-values for each dme, and number of drug targets\n",
    "back_phmeds_f = os.path.join(rscs_dir,'back_phmeds.pkl')\n",
    "back_phmeds = pickle.load(open(back_phmeds_f,'rb')) # to find expected p-value for phenotype\n",
    "dintf = os.path.join(rscs_dir,'drug_intome_targets.pkl')\n",
    "dint = pickle.load(open(dintf,'rb')) # to find number of drug targets"
   ]
  },
  {
   "cell_type": "code",
   "execution_count": null,
   "metadata": {
    "collapsed": true
   },
   "outputs": [],
   "source": [
    "# run analysis, store data for calculating specificity\n",
    "drugs_matched_to_tox = defaultdict(set)\n",
    "drugs_fp_to_tox = defaultdict(set)\n",
    "of1 = open('drugs_to_dmes_true_positive.txt','w')\n",
    "hdr = ['Drug Name','DrugBankID','Label DME','PathFX Phenotype','PathFX Phen. CUI','Corrected P-value','Network genes assoc to phen','\\n']\n",
    "of1.write('\\t'.join(hdr))\n",
    "of2 = open('drugs_to_dmes_false_positives.txt','w')\n",
    "hdr = ['Drug Name','DrugBankID','False Positive DME','PathFX Phenotype','PathFX Phen. CUI','Corrected P-value','Network genes assoc to phen','\\n']\n",
    "of2.write('\\t'.join(hdr))\n",
    "for dbid in un_w_t_in_dme:\n",
    "        print('analyzing drug: '+dbid)\n",
    "        asf = os.path.join(asfdir,asf_dic[dbid])\n",
    "        targs = dint[dbid]\n",
    "        nt = len(targs)\n",
    "        dname = db2n[dbid].lower()\n",
    "        drug_dmes = dmes_by_drugs[dname]\n",
    "        fp_dmes = fpdmes_by_drugs[dname]\n",
    "        dR = csv.DictReader(open(asf,'rU'),delimiter='\\t')\n",
    "        for row in dR: # get each phenotype for that drug\n",
    "                [rank,ph,cui,asin,asii,BH,genes] = [row['rank'],row['phenotype'],row['cui'],row['assoc in neigh'],row['assoc in intom'],float(row['Benjamini-Hochberg']),row['genes']]\n",
    "                if cui in back_phmeds[nt]:\n",
    "                        exp_BH = back_phmeds[nt][cui]\n",
    "                else:\n",
    "                        exp_BH = 1\n",
    "                if BH < exp_BH: # only look for matches with the significant phenotypes\n",
    "                        for tox in drug_dmes:\n",
    "                                if exact_overlap(tox,ph) or check_synonyms(tox,ph):\n",
    "                                        drugs_matched_to_tox[tox].add(dname)\n",
    "                                        out_data = [dname,dbid,tox,ph,cui,str(exp_BH),genes,'\\n']\n",
    "                                        of1.write('\\t'.join(out_data))\n",
    "\n",
    "                        for tox in fp_dmes:\n",
    "                                if exact_overlap(tox,ph) or check_synonyms(tox,ph):\n",
    "                                        drugs_fp_to_tox[tox].add(dname)\n",
    "                                        out_data = [dname,dbid,tox,ph,cui,str(exp_BH),genes,'\\n']\n",
    "                                        of2.write('\\t'.join(out_data))\n",
    "of1.close()\n",
    "of2.close()"
   ]
  },
  {
   "cell_type": "code",
   "execution_count": null,
   "metadata": {
    "collapsed": true
   },
   "outputs": [],
   "source": [
    "# calculate specificity and sensitivity\n",
    "of3 = open('dme_label_specificity_sensitivity.txt','w')\n",
    "hdr = ['DME','True Positive Count','True Positives','False Negative Count','False Negatives','False Positive Count','False Positives','True Negative Count','True Negatives','\\n']\n",
    "of3.write('\\t'.join(hdr))\n",
    "for dme in drugs_by_dme:\n",
    "        print('TP,FP calculation for: '+dme)\n",
    "        all_positives = drugs_by_dme[dme]\n",
    "        positives = set(all_positives).intersection(set(un_with_targ_dname)) # remove positives that aren't in the 997 drugs that are eligible for analysis\n",
    "        print('num positives: '+str(len(positives)))\n",
    "        true_positives = drugs_matched_to_tox[dme]\n",
    "        print('num TP: '+str(len(true_positives)))\n",
    "        false_negatives = list(set(positives).difference(true_positives)) # drugs with dmes not discovered by PathFX\n",
    "        print('num FN: '+str(len(false_negatives)))\n",
    "\n",
    "        negatives = list(set(un_with_targ_dname).difference(set(positives))) # drugs with targets but dme not on label\n",
    "        print('num negatives: '+str(len(negatives)))\n",
    "        false_positives = drugs_fp_to_tox[dme]\n",
    "        print('num FP: '+str(len(false_positives)))\n",
    "        true_negatives = list(set(negatives).difference(false_positives))\n",
    "        print('num TN: '+str(len(true_negatives)))\n",
    "\n",
    "        tpc = str(len(true_positives))\n",
    "        tps = ','.join(list(true_positives))\n",
    "        fnc = len(false_negatives)\n",
    "        fns = ','.join(false_negatives)\n",
    "        fpc = len(false_positives)\n",
    "        fps = ','.join(list(false_positives))\n",
    "        tnc = len(true_negatives)\n",
    "        tns = ','.join(true_negatives)\n",
    "        outdata = [dme,str(tpc),tps,str(fnc),fns,str(fpc),fps,str(tnc),tns,'\\n']\n",
    "        of3.write('\\t'.join(outdata))\n",
    "of3.close()"
   ]
  }
 ],
 "metadata": {
  "kernelspec": {
   "display_name": "Python 3",
   "language": "python",
   "name": "python3"
  },
  "language_info": {
   "codemirror_mode": {
    "name": "ipython",
    "version": 3
   },
   "file_extension": ".py",
   "mimetype": "text/x-python",
   "name": "python",
   "nbconvert_exporter": "python",
   "pygments_lexer": "ipython3",
   "version": "3.6.3"
  }
 },
 "nbformat": 4,
 "nbformat_minor": 2
}
